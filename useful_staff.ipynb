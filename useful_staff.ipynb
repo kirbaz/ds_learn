{
  "nbformat": 4,
  "nbformat_minor": 0,
  "metadata": {
    "colab": {
      "provenance": []
    },
    "kernelspec": {
      "name": "python3",
      "display_name": "Python 3"
    },
    "language_info": {
      "name": "python"
    }
  },
  "cells": [
    {
      "cell_type": "markdown",
      "source": [
        "# Загрузка данных"
      ],
      "metadata": {
        "id": "oMfV1H9rhbqQ"
      }
    },
    {
      "cell_type": "code",
      "source": [
        "! gdown --id 1Ym8EaWePP17RvrweKhWzCJmITXLgqvCZ"
      ],
      "metadata": {
        "colab": {
          "base_uri": "https://localhost:8080/"
        },
        "id": "2J2vCNm1hVP_",
        "outputId": "17a94137-eb61-479a-cef2-c181c060f0f3"
      },
      "execution_count": null,
      "outputs": [
        {
          "output_type": "stream",
          "name": "stdout",
          "text": [
            "/usr/local/lib/python3.10/dist-packages/gdown/__main__.py:132: FutureWarning: Option `--id` was deprecated in version 4.3.1 and will be removed in 5.0. You don't need to pass it anymore to use a file ID.\n",
            "  warnings.warn(\n",
            "Downloading...\n",
            "From: https://drive.google.com/uc?id=1Ym8EaWePP17RvrweKhWzCJmITXLgqvCZ\n",
            "To: /content/churn-modeling.zip\n",
            "100% 268k/268k [00:00<00:00, 60.4MB/s]\n"
          ]
        }
      ]
    },
    {
      "cell_type": "code",
      "source": [
        "import pandas as pd"
      ],
      "metadata": {
        "id": "l4ih2i1VhVS_"
      },
      "execution_count": null,
      "outputs": []
    },
    {
      "cell_type": "code",
      "source": [
        "df = pd.read_csv('/content/churn-modeling.zip')"
      ],
      "metadata": {
        "id": "UFbL4_Z-hVYn"
      },
      "execution_count": null,
      "outputs": []
    },
    {
      "cell_type": "markdown",
      "source": [
        "# Обучающая, валидационная и тестовая выборка"
      ],
      "metadata": {
        "id": "yBbc6Zr6hrIw"
      }
    },
    {
      "cell_type": "code",
      "source": [
        "from sklearn.model_selection import train_test_split"
      ],
      "metadata": {
        "id": "Ru0D5HCChVcJ"
      },
      "execution_count": null,
      "outputs": []
    },
    {
      "cell_type": "code",
      "source": [
        "train, test = train_test_split(df, train_size=0.6, random_state=42, stratify=df['Exited'])"
      ],
      "metadata": {
        "id": "SJXK6rILhVe_"
      },
      "execution_count": null,
      "outputs": []
    },
    {
      "cell_type": "code",
      "source": [
        "val, test = train_test_split(test, train_size=0.5, random_state=42, stratify=test['Exited'])"
      ],
      "metadata": {
        "id": "zxOBVPD2hViH"
      },
      "execution_count": null,
      "outputs": []
    },
    {
      "cell_type": "markdown",
      "source": [
        "# Обучение модели"
      ],
      "metadata": {
        "id": "X0LBuxTXiuq_"
      }
    },
    {
      "cell_type": "code",
      "source": [
        "!pip install catboost"
      ],
      "metadata": {
        "colab": {
          "base_uri": "https://localhost:8080/"
        },
        "id": "zy2OO4CihVlf",
        "outputId": "58cac60e-354b-4eec-8cc2-db768cdc7bc9"
      },
      "execution_count": null,
      "outputs": [
        {
          "output_type": "stream",
          "name": "stdout",
          "text": [
            "Collecting catboost\n",
            "  Downloading catboost-1.2.5-cp310-cp310-manylinux2014_x86_64.whl (98.2 MB)\n",
            "\u001b[2K     \u001b[90m━━━━━━━━━━━━━━━━━━━━━━━━━━━━━━━━━━━━━━━━\u001b[0m \u001b[32m98.2/98.2 MB\u001b[0m \u001b[31m7.1 MB/s\u001b[0m eta \u001b[36m0:00:00\u001b[0m\n",
            "\u001b[?25hRequirement already satisfied: graphviz in /usr/local/lib/python3.10/dist-packages (from catboost) (0.20.3)\n",
            "Requirement already satisfied: matplotlib in /usr/local/lib/python3.10/dist-packages (from catboost) (3.7.1)\n",
            "Requirement already satisfied: numpy>=1.16.0 in /usr/local/lib/python3.10/dist-packages (from catboost) (1.25.2)\n",
            "Requirement already satisfied: pandas>=0.24 in /usr/local/lib/python3.10/dist-packages (from catboost) (2.0.3)\n",
            "Requirement already satisfied: scipy in /usr/local/lib/python3.10/dist-packages (from catboost) (1.11.4)\n",
            "Requirement already satisfied: plotly in /usr/local/lib/python3.10/dist-packages (from catboost) (5.15.0)\n",
            "Requirement already satisfied: six in /usr/local/lib/python3.10/dist-packages (from catboost) (1.16.0)\n",
            "Requirement already satisfied: python-dateutil>=2.8.2 in /usr/local/lib/python3.10/dist-packages (from pandas>=0.24->catboost) (2.8.2)\n",
            "Requirement already satisfied: pytz>=2020.1 in /usr/local/lib/python3.10/dist-packages (from pandas>=0.24->catboost) (2023.4)\n",
            "Requirement already satisfied: tzdata>=2022.1 in /usr/local/lib/python3.10/dist-packages (from pandas>=0.24->catboost) (2024.1)\n",
            "Requirement already satisfied: contourpy>=1.0.1 in /usr/local/lib/python3.10/dist-packages (from matplotlib->catboost) (1.2.1)\n",
            "Requirement already satisfied: cycler>=0.10 in /usr/local/lib/python3.10/dist-packages (from matplotlib->catboost) (0.12.1)\n",
            "Requirement already satisfied: fonttools>=4.22.0 in /usr/local/lib/python3.10/dist-packages (from matplotlib->catboost) (4.53.1)\n",
            "Requirement already satisfied: kiwisolver>=1.0.1 in /usr/local/lib/python3.10/dist-packages (from matplotlib->catboost) (1.4.5)\n",
            "Requirement already satisfied: packaging>=20.0 in /usr/local/lib/python3.10/dist-packages (from matplotlib->catboost) (24.1)\n",
            "Requirement already satisfied: pillow>=6.2.0 in /usr/local/lib/python3.10/dist-packages (from matplotlib->catboost) (9.4.0)\n",
            "Requirement already satisfied: pyparsing>=2.3.1 in /usr/local/lib/python3.10/dist-packages (from matplotlib->catboost) (3.1.2)\n",
            "Requirement already satisfied: tenacity>=6.2.0 in /usr/local/lib/python3.10/dist-packages (from plotly->catboost) (8.5.0)\n",
            "Installing collected packages: catboost\n",
            "Successfully installed catboost-1.2.5\n"
          ]
        }
      ]
    },
    {
      "cell_type": "code",
      "source": [
        "X = ['CustomerId', 'CreditScore', 'Geography',\n",
        "       'Gender', 'Age', 'Tenure', 'Balance', 'NumOfProducts', 'HasCrCard',\n",
        "       'IsActiveMember', 'EstimatedSalary']\n",
        "\n",
        "cat_features = ['Geography','Gender']\n",
        "\n",
        "y = ['Exited']"
      ],
      "metadata": {
        "id": "K_SQORXOhVo3"
      },
      "execution_count": null,
      "outputs": []
    },
    {
      "cell_type": "code",
      "source": [
        "from catboost import Pool\n",
        "\n",
        "train_data = Pool(data=train[X],\n",
        "                  label=train[y],\n",
        "                  cat_features=cat_features\n",
        "                 )\n",
        "\n",
        "valid_data = Pool(data=val[X],\n",
        "                  label=val[y],\n",
        "                  cat_features=cat_features\n",
        "                 )\n",
        "\n",
        "test_data = Pool(data=test[X],\n",
        "                  label=test[y],\n",
        "                  cat_features=cat_features\n",
        "                 )"
      ],
      "metadata": {
        "id": "qLWKQenBi8Xn"
      },
      "execution_count": null,
      "outputs": []
    },
    {
      "cell_type": "code",
      "source": [
        "params = {'verbose':100,\n",
        "          'eval_metric':'AUC',\n",
        "          'loss_function': 'Logloss',\n",
        "          'random_seed':42,\n",
        "          'learning_rate':0.01}"
      ],
      "metadata": {
        "id": "dBl6QT2Ei8b_"
      },
      "execution_count": null,
      "outputs": []
    },
    {
      "cell_type": "code",
      "source": [
        "from catboost import CatBoostClassifier"
      ],
      "metadata": {
        "id": "3bqOobgNmEwP"
      },
      "execution_count": null,
      "outputs": []
    },
    {
      "cell_type": "code",
      "source": [
        "model = CatBoostClassifier(**params)"
      ],
      "metadata": {
        "id": "Ki4RfoiPi8f3"
      },
      "execution_count": null,
      "outputs": []
    },
    {
      "cell_type": "code",
      "source": [
        "model.fit(train_data, eval_set=valid_data)"
      ],
      "metadata": {
        "colab": {
          "base_uri": "https://localhost:8080/"
        },
        "id": "sCINtIwYi8j_",
        "outputId": "dcc36093-ba22-4fe1-d179-9c612c3e1717"
      },
      "execution_count": null,
      "outputs": [
        {
          "output_type": "stream",
          "name": "stdout",
          "text": [
            "0:\ttest: 0.8338545\tbest: 0.8338545 (0)\ttotal: 60ms\tremaining: 59.9s\n",
            "100:\ttest: 0.8725090\tbest: 0.8725090 (100)\ttotal: 1.65s\tremaining: 14.7s\n",
            "200:\ttest: 0.8784656\tbest: 0.8784656 (200)\ttotal: 3.32s\tremaining: 13.2s\n",
            "300:\ttest: 0.8812676\tbest: 0.8812676 (300)\ttotal: 6.26s\tremaining: 14.5s\n",
            "400:\ttest: 0.8823868\tbest: 0.8824376 (390)\ttotal: 9.15s\tremaining: 13.7s\n",
            "500:\ttest: 0.8834491\tbest: 0.8834522 (498)\ttotal: 11.3s\tremaining: 11.2s\n",
            "600:\ttest: 0.8834737\tbest: 0.8836554 (564)\ttotal: 13.6s\tremaining: 9.03s\n",
            "700:\ttest: 0.8837847\tbest: 0.8838694 (685)\ttotal: 15.3s\tremaining: 6.51s\n",
            "800:\ttest: 0.8834383\tbest: 0.8838694 (685)\ttotal: 17.2s\tremaining: 4.28s\n",
            "900:\ttest: 0.8829318\tbest: 0.8838694 (685)\ttotal: 18.9s\tremaining: 2.07s\n",
            "999:\ttest: 0.8822744\tbest: 0.8838694 (685)\ttotal: 20.8s\tremaining: 0us\n",
            "\n",
            "bestTest = 0.8838694083\n",
            "bestIteration = 685\n",
            "\n",
            "Shrink model to first 686 iterations.\n"
          ]
        },
        {
          "output_type": "execute_result",
          "data": {
            "text/plain": [
              "<catboost.core.CatBoostClassifier at 0x78afe5383a60>"
            ]
          },
          "metadata": {},
          "execution_count": 13
        }
      ]
    },
    {
      "cell_type": "code",
      "source": [
        "n_iters = model.best_iteration_ + 1"
      ],
      "metadata": {
        "id": "CeMgn2Zni8n_"
      },
      "execution_count": null,
      "outputs": []
    },
    {
      "cell_type": "code",
      "source": [
        "n_iters"
      ],
      "metadata": {
        "colab": {
          "base_uri": "https://localhost:8080/"
        },
        "id": "ekVJ7hLzi8rn",
        "outputId": "083ffc0f-e79a-4d97-f9f4-0dfa7fe6a6c8"
      },
      "execution_count": null,
      "outputs": [
        {
          "output_type": "execute_result",
          "data": {
            "text/plain": [
              "686"
            ]
          },
          "metadata": {},
          "execution_count": 15
        }
      ]
    },
    {
      "cell_type": "code",
      "source": [
        "params = {'iterations':n_iters,\n",
        "          'verbose':100,\n",
        "          'eval_metric':'AUC',\n",
        "          'loss_function': 'Logloss',\n",
        "          'random_seed':42,\n",
        "          'learning_rate':0.01}"
      ],
      "metadata": {
        "id": "v4NjVo3ei8v3"
      },
      "execution_count": null,
      "outputs": []
    },
    {
      "cell_type": "code",
      "source": [
        "model = CatBoostClassifier(**params)"
      ],
      "metadata": {
        "id": "d9XMknyWi8zf"
      },
      "execution_count": null,
      "outputs": []
    },
    {
      "cell_type": "code",
      "source": [
        "train_full = pd.concat([train, val])"
      ],
      "metadata": {
        "id": "ZXSckZewhVsR"
      },
      "execution_count": null,
      "outputs": []
    },
    {
      "cell_type": "code",
      "source": [
        "train_full_data = Pool(train_full[X],\n",
        "                       train_full[y],\n",
        "                       cat_features=cat_features)"
      ],
      "metadata": {
        "id": "d2c8NM6am56t"
      },
      "execution_count": null,
      "outputs": []
    },
    {
      "cell_type": "code",
      "source": [
        "model.fit(train_full_data)"
      ],
      "metadata": {
        "colab": {
          "base_uri": "https://localhost:8080/"
        },
        "id": "SsHyJWKrhVvq",
        "outputId": "4e47a5e4-db77-4a54-f0b6-a3cdc84f7a3e"
      },
      "execution_count": null,
      "outputs": [
        {
          "output_type": "stream",
          "name": "stdout",
          "text": [
            "0:\ttotal: 32.1ms\tremaining: 22s\n",
            "100:\ttotal: 1.69s\tremaining: 9.81s\n",
            "200:\ttotal: 2.72s\tremaining: 6.57s\n",
            "300:\ttotal: 3.76s\tremaining: 4.8s\n",
            "400:\ttotal: 4.83s\tremaining: 3.43s\n",
            "500:\ttotal: 5.86s\tremaining: 2.16s\n",
            "600:\ttotal: 6.91s\tremaining: 977ms\n",
            "685:\ttotal: 7.81s\tremaining: 0us\n"
          ]
        },
        {
          "output_type": "execute_result",
          "data": {
            "text/plain": [
              "<catboost.core.CatBoostClassifier at 0x78afe5382c80>"
            ]
          },
          "metadata": {},
          "execution_count": 20
        }
      ]
    },
    {
      "cell_type": "code",
      "source": [
        "test['y_score_no_cross_val'] = model.predict_proba(test_data)[:,1]"
      ],
      "metadata": {
        "id": "LBk85telhW3I"
      },
      "execution_count": null,
      "outputs": []
    },
    {
      "cell_type": "code",
      "source": [
        "from sklearn.metrics import roc_auc_score"
      ],
      "metadata": {
        "id": "aUlYrV-7hW6P"
      },
      "execution_count": null,
      "outputs": []
    },
    {
      "cell_type": "code",
      "source": [
        "roc_auc_score(test['Exited'], test['y_score_no_cross_val'])"
      ],
      "metadata": {
        "colab": {
          "base_uri": "https://localhost:8080/"
        },
        "id": "2RyNOE5GhW9g",
        "outputId": "857ba3b2-a5b6-4ba5-ee0b-199145b97df5"
      },
      "execution_count": null,
      "outputs": [
        {
          "output_type": "execute_result",
          "data": {
            "text/plain": [
              "0.8735839074822127"
            ]
          },
          "metadata": {},
          "execution_count": 23
        }
      ]
    },
    {
      "cell_type": "markdown",
      "source": [
        "# Кросс-валидация"
      ],
      "metadata": {
        "id": "yiuJg3tCn0ZJ"
      }
    },
    {
      "cell_type": "code",
      "source": [
        "from catboost import cv"
      ],
      "metadata": {
        "id": "E9eaLhB2hXA_"
      },
      "execution_count": null,
      "outputs": []
    },
    {
      "cell_type": "code",
      "source": [
        "params = {\n",
        "          'verbose':100,\n",
        "          'eval_metric':'AUC',\n",
        "          'loss_function': 'Logloss',\n",
        "          'random_seed':42,\n",
        "          'learning_rate':0.01}"
      ],
      "metadata": {
        "id": "3sz9Y2fgoNkt"
      },
      "execution_count": null,
      "outputs": []
    },
    {
      "cell_type": "code",
      "source": [
        "cv_data = cv(params=params,\n",
        "             pool=train_full_data,\n",
        "             fold_count=5,\n",
        "             shuffle=True,\n",
        "             partition_random_seed=0,\n",
        "             stratified=False,\n",
        "             verbose=False)"
      ],
      "metadata": {
        "colab": {
          "base_uri": "https://localhost:8080/"
        },
        "id": "4YYUgORZn3li",
        "outputId": "3e9b092a-0cb0-4f90-a046-d5b929d9c9b1"
      },
      "execution_count": null,
      "outputs": [
        {
          "output_type": "stream",
          "name": "stdout",
          "text": [
            "Training on fold [0/5]\n",
            "\n",
            "bestTest = 0.866360207\n",
            "bestIteration = 881\n",
            "\n",
            "Training on fold [1/5]\n",
            "\n",
            "bestTest = 0.8716621864\n",
            "bestIteration = 998\n",
            "\n",
            "Training on fold [2/5]\n",
            "\n",
            "bestTest = 0.8695412245\n",
            "bestIteration = 540\n",
            "\n",
            "Training on fold [3/5]\n",
            "\n",
            "bestTest = 0.8795945701\n",
            "bestIteration = 942\n",
            "\n",
            "Training on fold [4/5]\n",
            "\n",
            "bestTest = 0.8586794872\n",
            "bestIteration = 750\n",
            "\n"
          ]
        }
      ]
    },
    {
      "cell_type": "code",
      "source": [
        "cv_data"
      ],
      "metadata": {
        "colab": {
          "base_uri": "https://localhost:8080/"
        },
        "id": "VDzVqYZan3uy",
        "outputId": "d31fa27a-62b6-4358-896b-68ffa896a7c3"
      },
      "execution_count": null,
      "outputs": [
        {
          "output_type": "execute_result",
          "data": {
            "text/plain": [
              "     iterations  test-AUC-mean  test-AUC-std  test-Logloss-mean  \\\n",
              "0             0       0.818479      0.009480           0.685020   \n",
              "1             1       0.823848      0.010334           0.677216   \n",
              "2             2       0.831819      0.009265           0.668989   \n",
              "3             3       0.834559      0.008771           0.662008   \n",
              "4             4       0.834483      0.008218           0.654599   \n",
              "..          ...            ...           ...                ...   \n",
              "995         995       0.868703      0.007809           0.329986   \n",
              "996         996       0.868715      0.007781           0.329972   \n",
              "997         997       0.868718      0.007804           0.329972   \n",
              "998         998       0.868725      0.007777           0.329969   \n",
              "999         999       0.868729      0.007779           0.329964   \n",
              "\n",
              "     test-Logloss-std  train-Logloss-mean  train-Logloss-std  \n",
              "0            0.000209            0.684939           0.000262  \n",
              "1            0.000374            0.677055           0.000503  \n",
              "2            0.000472            0.668799           0.000751  \n",
              "3            0.001326            0.661753           0.000689  \n",
              "4            0.001429            0.654270           0.000898  \n",
              "..                ...                 ...                ...  \n",
              "995          0.016873            0.284097           0.003644  \n",
              "996          0.016875            0.284057           0.003631  \n",
              "997          0.016876            0.284003           0.003636  \n",
              "998          0.016855            0.283943           0.003613  \n",
              "999          0.016869            0.283886           0.003601  \n",
              "\n",
              "[1000 rows x 7 columns]"
            ],
            "text/html": [
              "\n",
              "  <div id=\"df-a788746c-0ca6-401c-806d-82b9f9e7a0bf\" class=\"colab-df-container\">\n",
              "    <div>\n",
              "<style scoped>\n",
              "    .dataframe tbody tr th:only-of-type {\n",
              "        vertical-align: middle;\n",
              "    }\n",
              "\n",
              "    .dataframe tbody tr th {\n",
              "        vertical-align: top;\n",
              "    }\n",
              "\n",
              "    .dataframe thead th {\n",
              "        text-align: right;\n",
              "    }\n",
              "</style>\n",
              "<table border=\"1\" class=\"dataframe\">\n",
              "  <thead>\n",
              "    <tr style=\"text-align: right;\">\n",
              "      <th></th>\n",
              "      <th>iterations</th>\n",
              "      <th>test-AUC-mean</th>\n",
              "      <th>test-AUC-std</th>\n",
              "      <th>test-Logloss-mean</th>\n",
              "      <th>test-Logloss-std</th>\n",
              "      <th>train-Logloss-mean</th>\n",
              "      <th>train-Logloss-std</th>\n",
              "    </tr>\n",
              "  </thead>\n",
              "  <tbody>\n",
              "    <tr>\n",
              "      <th>0</th>\n",
              "      <td>0</td>\n",
              "      <td>0.818479</td>\n",
              "      <td>0.009480</td>\n",
              "      <td>0.685020</td>\n",
              "      <td>0.000209</td>\n",
              "      <td>0.684939</td>\n",
              "      <td>0.000262</td>\n",
              "    </tr>\n",
              "    <tr>\n",
              "      <th>1</th>\n",
              "      <td>1</td>\n",
              "      <td>0.823848</td>\n",
              "      <td>0.010334</td>\n",
              "      <td>0.677216</td>\n",
              "      <td>0.000374</td>\n",
              "      <td>0.677055</td>\n",
              "      <td>0.000503</td>\n",
              "    </tr>\n",
              "    <tr>\n",
              "      <th>2</th>\n",
              "      <td>2</td>\n",
              "      <td>0.831819</td>\n",
              "      <td>0.009265</td>\n",
              "      <td>0.668989</td>\n",
              "      <td>0.000472</td>\n",
              "      <td>0.668799</td>\n",
              "      <td>0.000751</td>\n",
              "    </tr>\n",
              "    <tr>\n",
              "      <th>3</th>\n",
              "      <td>3</td>\n",
              "      <td>0.834559</td>\n",
              "      <td>0.008771</td>\n",
              "      <td>0.662008</td>\n",
              "      <td>0.001326</td>\n",
              "      <td>0.661753</td>\n",
              "      <td>0.000689</td>\n",
              "    </tr>\n",
              "    <tr>\n",
              "      <th>4</th>\n",
              "      <td>4</td>\n",
              "      <td>0.834483</td>\n",
              "      <td>0.008218</td>\n",
              "      <td>0.654599</td>\n",
              "      <td>0.001429</td>\n",
              "      <td>0.654270</td>\n",
              "      <td>0.000898</td>\n",
              "    </tr>\n",
              "    <tr>\n",
              "      <th>...</th>\n",
              "      <td>...</td>\n",
              "      <td>...</td>\n",
              "      <td>...</td>\n",
              "      <td>...</td>\n",
              "      <td>...</td>\n",
              "      <td>...</td>\n",
              "      <td>...</td>\n",
              "    </tr>\n",
              "    <tr>\n",
              "      <th>995</th>\n",
              "      <td>995</td>\n",
              "      <td>0.868703</td>\n",
              "      <td>0.007809</td>\n",
              "      <td>0.329986</td>\n",
              "      <td>0.016873</td>\n",
              "      <td>0.284097</td>\n",
              "      <td>0.003644</td>\n",
              "    </tr>\n",
              "    <tr>\n",
              "      <th>996</th>\n",
              "      <td>996</td>\n",
              "      <td>0.868715</td>\n",
              "      <td>0.007781</td>\n",
              "      <td>0.329972</td>\n",
              "      <td>0.016875</td>\n",
              "      <td>0.284057</td>\n",
              "      <td>0.003631</td>\n",
              "    </tr>\n",
              "    <tr>\n",
              "      <th>997</th>\n",
              "      <td>997</td>\n",
              "      <td>0.868718</td>\n",
              "      <td>0.007804</td>\n",
              "      <td>0.329972</td>\n",
              "      <td>0.016876</td>\n",
              "      <td>0.284003</td>\n",
              "      <td>0.003636</td>\n",
              "    </tr>\n",
              "    <tr>\n",
              "      <th>998</th>\n",
              "      <td>998</td>\n",
              "      <td>0.868725</td>\n",
              "      <td>0.007777</td>\n",
              "      <td>0.329969</td>\n",
              "      <td>0.016855</td>\n",
              "      <td>0.283943</td>\n",
              "      <td>0.003613</td>\n",
              "    </tr>\n",
              "    <tr>\n",
              "      <th>999</th>\n",
              "      <td>999</td>\n",
              "      <td>0.868729</td>\n",
              "      <td>0.007779</td>\n",
              "      <td>0.329964</td>\n",
              "      <td>0.016869</td>\n",
              "      <td>0.283886</td>\n",
              "      <td>0.003601</td>\n",
              "    </tr>\n",
              "  </tbody>\n",
              "</table>\n",
              "<p>1000 rows × 7 columns</p>\n",
              "</div>\n",
              "    <div class=\"colab-df-buttons\">\n",
              "\n",
              "  <div class=\"colab-df-container\">\n",
              "    <button class=\"colab-df-convert\" onclick=\"convertToInteractive('df-a788746c-0ca6-401c-806d-82b9f9e7a0bf')\"\n",
              "            title=\"Convert this dataframe to an interactive table.\"\n",
              "            style=\"display:none;\">\n",
              "\n",
              "  <svg xmlns=\"http://www.w3.org/2000/svg\" height=\"24px\" viewBox=\"0 -960 960 960\">\n",
              "    <path d=\"M120-120v-720h720v720H120Zm60-500h600v-160H180v160Zm220 220h160v-160H400v160Zm0 220h160v-160H400v160ZM180-400h160v-160H180v160Zm440 0h160v-160H620v160ZM180-180h160v-160H180v160Zm440 0h160v-160H620v160Z\"/>\n",
              "  </svg>\n",
              "    </button>\n",
              "\n",
              "  <style>\n",
              "    .colab-df-container {\n",
              "      display:flex;\n",
              "      gap: 12px;\n",
              "    }\n",
              "\n",
              "    .colab-df-convert {\n",
              "      background-color: #E8F0FE;\n",
              "      border: none;\n",
              "      border-radius: 50%;\n",
              "      cursor: pointer;\n",
              "      display: none;\n",
              "      fill: #1967D2;\n",
              "      height: 32px;\n",
              "      padding: 0 0 0 0;\n",
              "      width: 32px;\n",
              "    }\n",
              "\n",
              "    .colab-df-convert:hover {\n",
              "      background-color: #E2EBFA;\n",
              "      box-shadow: 0px 1px 2px rgba(60, 64, 67, 0.3), 0px 1px 3px 1px rgba(60, 64, 67, 0.15);\n",
              "      fill: #174EA6;\n",
              "    }\n",
              "\n",
              "    .colab-df-buttons div {\n",
              "      margin-bottom: 4px;\n",
              "    }\n",
              "\n",
              "    [theme=dark] .colab-df-convert {\n",
              "      background-color: #3B4455;\n",
              "      fill: #D2E3FC;\n",
              "    }\n",
              "\n",
              "    [theme=dark] .colab-df-convert:hover {\n",
              "      background-color: #434B5C;\n",
              "      box-shadow: 0px 1px 3px 1px rgba(0, 0, 0, 0.15);\n",
              "      filter: drop-shadow(0px 1px 2px rgba(0, 0, 0, 0.3));\n",
              "      fill: #FFFFFF;\n",
              "    }\n",
              "  </style>\n",
              "\n",
              "    <script>\n",
              "      const buttonEl =\n",
              "        document.querySelector('#df-a788746c-0ca6-401c-806d-82b9f9e7a0bf button.colab-df-convert');\n",
              "      buttonEl.style.display =\n",
              "        google.colab.kernel.accessAllowed ? 'block' : 'none';\n",
              "\n",
              "      async function convertToInteractive(key) {\n",
              "        const element = document.querySelector('#df-a788746c-0ca6-401c-806d-82b9f9e7a0bf');\n",
              "        const dataTable =\n",
              "          await google.colab.kernel.invokeFunction('convertToInteractive',\n",
              "                                                    [key], {});\n",
              "        if (!dataTable) return;\n",
              "\n",
              "        const docLinkHtml = 'Like what you see? Visit the ' +\n",
              "          '<a target=\"_blank\" href=https://colab.research.google.com/notebooks/data_table.ipynb>data table notebook</a>'\n",
              "          + ' to learn more about interactive tables.';\n",
              "        element.innerHTML = '';\n",
              "        dataTable['output_type'] = 'display_data';\n",
              "        await google.colab.output.renderOutput(dataTable, element);\n",
              "        const docLink = document.createElement('div');\n",
              "        docLink.innerHTML = docLinkHtml;\n",
              "        element.appendChild(docLink);\n",
              "      }\n",
              "    </script>\n",
              "  </div>\n",
              "\n",
              "\n",
              "<div id=\"df-9367c05f-c025-4a18-81e6-ebc9b3ac6448\">\n",
              "  <button class=\"colab-df-quickchart\" onclick=\"quickchart('df-9367c05f-c025-4a18-81e6-ebc9b3ac6448')\"\n",
              "            title=\"Suggest charts\"\n",
              "            style=\"display:none;\">\n",
              "\n",
              "<svg xmlns=\"http://www.w3.org/2000/svg\" height=\"24px\"viewBox=\"0 0 24 24\"\n",
              "     width=\"24px\">\n",
              "    <g>\n",
              "        <path d=\"M19 3H5c-1.1 0-2 .9-2 2v14c0 1.1.9 2 2 2h14c1.1 0 2-.9 2-2V5c0-1.1-.9-2-2-2zM9 17H7v-7h2v7zm4 0h-2V7h2v10zm4 0h-2v-4h2v4z\"/>\n",
              "    </g>\n",
              "</svg>\n",
              "  </button>\n",
              "\n",
              "<style>\n",
              "  .colab-df-quickchart {\n",
              "      --bg-color: #E8F0FE;\n",
              "      --fill-color: #1967D2;\n",
              "      --hover-bg-color: #E2EBFA;\n",
              "      --hover-fill-color: #174EA6;\n",
              "      --disabled-fill-color: #AAA;\n",
              "      --disabled-bg-color: #DDD;\n",
              "  }\n",
              "\n",
              "  [theme=dark] .colab-df-quickchart {\n",
              "      --bg-color: #3B4455;\n",
              "      --fill-color: #D2E3FC;\n",
              "      --hover-bg-color: #434B5C;\n",
              "      --hover-fill-color: #FFFFFF;\n",
              "      --disabled-bg-color: #3B4455;\n",
              "      --disabled-fill-color: #666;\n",
              "  }\n",
              "\n",
              "  .colab-df-quickchart {\n",
              "    background-color: var(--bg-color);\n",
              "    border: none;\n",
              "    border-radius: 50%;\n",
              "    cursor: pointer;\n",
              "    display: none;\n",
              "    fill: var(--fill-color);\n",
              "    height: 32px;\n",
              "    padding: 0;\n",
              "    width: 32px;\n",
              "  }\n",
              "\n",
              "  .colab-df-quickchart:hover {\n",
              "    background-color: var(--hover-bg-color);\n",
              "    box-shadow: 0 1px 2px rgba(60, 64, 67, 0.3), 0 1px 3px 1px rgba(60, 64, 67, 0.15);\n",
              "    fill: var(--button-hover-fill-color);\n",
              "  }\n",
              "\n",
              "  .colab-df-quickchart-complete:disabled,\n",
              "  .colab-df-quickchart-complete:disabled:hover {\n",
              "    background-color: var(--disabled-bg-color);\n",
              "    fill: var(--disabled-fill-color);\n",
              "    box-shadow: none;\n",
              "  }\n",
              "\n",
              "  .colab-df-spinner {\n",
              "    border: 2px solid var(--fill-color);\n",
              "    border-color: transparent;\n",
              "    border-bottom-color: var(--fill-color);\n",
              "    animation:\n",
              "      spin 1s steps(1) infinite;\n",
              "  }\n",
              "\n",
              "  @keyframes spin {\n",
              "    0% {\n",
              "      border-color: transparent;\n",
              "      border-bottom-color: var(--fill-color);\n",
              "      border-left-color: var(--fill-color);\n",
              "    }\n",
              "    20% {\n",
              "      border-color: transparent;\n",
              "      border-left-color: var(--fill-color);\n",
              "      border-top-color: var(--fill-color);\n",
              "    }\n",
              "    30% {\n",
              "      border-color: transparent;\n",
              "      border-left-color: var(--fill-color);\n",
              "      border-top-color: var(--fill-color);\n",
              "      border-right-color: var(--fill-color);\n",
              "    }\n",
              "    40% {\n",
              "      border-color: transparent;\n",
              "      border-right-color: var(--fill-color);\n",
              "      border-top-color: var(--fill-color);\n",
              "    }\n",
              "    60% {\n",
              "      border-color: transparent;\n",
              "      border-right-color: var(--fill-color);\n",
              "    }\n",
              "    80% {\n",
              "      border-color: transparent;\n",
              "      border-right-color: var(--fill-color);\n",
              "      border-bottom-color: var(--fill-color);\n",
              "    }\n",
              "    90% {\n",
              "      border-color: transparent;\n",
              "      border-bottom-color: var(--fill-color);\n",
              "    }\n",
              "  }\n",
              "</style>\n",
              "\n",
              "  <script>\n",
              "    async function quickchart(key) {\n",
              "      const quickchartButtonEl =\n",
              "        document.querySelector('#' + key + ' button');\n",
              "      quickchartButtonEl.disabled = true;  // To prevent multiple clicks.\n",
              "      quickchartButtonEl.classList.add('colab-df-spinner');\n",
              "      try {\n",
              "        const charts = await google.colab.kernel.invokeFunction(\n",
              "            'suggestCharts', [key], {});\n",
              "      } catch (error) {\n",
              "        console.error('Error during call to suggestCharts:', error);\n",
              "      }\n",
              "      quickchartButtonEl.classList.remove('colab-df-spinner');\n",
              "      quickchartButtonEl.classList.add('colab-df-quickchart-complete');\n",
              "    }\n",
              "    (() => {\n",
              "      let quickchartButtonEl =\n",
              "        document.querySelector('#df-9367c05f-c025-4a18-81e6-ebc9b3ac6448 button');\n",
              "      quickchartButtonEl.style.display =\n",
              "        google.colab.kernel.accessAllowed ? 'block' : 'none';\n",
              "    })();\n",
              "  </script>\n",
              "</div>\n",
              "    </div>\n",
              "  </div>\n"
            ],
            "application/vnd.google.colaboratory.intrinsic+json": {
              "type": "dataframe",
              "variable_name": "cv_data",
              "summary": "{\n  \"name\": \"cv_data\",\n  \"rows\": 1000,\n  \"fields\": [\n    {\n      \"column\": \"iterations\",\n      \"properties\": {\n        \"dtype\": \"number\",\n        \"std\": 288,\n        \"min\": 0,\n        \"max\": 999,\n        \"num_unique_values\": 1000,\n        \"samples\": [\n          521,\n          737,\n          740\n        ],\n        \"semantic_type\": \"\",\n        \"description\": \"\"\n      }\n    },\n    {\n      \"column\": \"test-AUC-mean\",\n      \"properties\": {\n        \"dtype\": \"number\",\n        \"std\": 0.006904263100456901,\n        \"min\": 0.8184786310664103,\n        \"max\": 0.8688218559102292,\n        \"num_unique_values\": 1000,\n        \"samples\": [\n          0.8680927825769988,\n          0.8688112541821823,\n          0.8688126614129128\n        ],\n        \"semantic_type\": \"\",\n        \"description\": \"\"\n      }\n    },\n    {\n      \"column\": \"test-AUC-std\",\n      \"properties\": {\n        \"dtype\": \"number\",\n        \"std\": 0.0011897369344733952,\n        \"min\": 0.007375525964690294,\n        \"max\": 0.013514308884443731,\n        \"num_unique_values\": 1000,\n        \"samples\": [\n          0.007516326435238886,\n          0.0074930152338874055,\n          0.007464845459462979\n        ],\n        \"semantic_type\": \"\",\n        \"description\": \"\"\n      }\n    },\n    {\n      \"column\": \"test-Logloss-mean\",\n      \"properties\": {\n        \"dtype\": \"number\",\n        \"std\": 0.052911874835349676,\n        \"min\": 0.3299586010492434,\n        \"max\": 0.685020265064378,\n        \"num_unique_values\": 1000,\n        \"samples\": [\n          0.33328508411045626,\n          0.3308363035316654,\n          0.3308304637022058\n        ],\n        \"semantic_type\": \"\",\n        \"description\": \"\"\n      }\n    },\n    {\n      \"column\": \"test-Logloss-std\",\n      \"properties\": {\n        \"dtype\": \"number\",\n        \"std\": 0.002995970950883947,\n        \"min\": 0.00020903846271185731,\n        \"max\": 0.017228780619837628,\n        \"num_unique_values\": 1000,\n        \"samples\": [\n          0.01711120818799487,\n          0.017021320199666578,\n          0.017010510557396066\n        ],\n        \"semantic_type\": \"\",\n        \"description\": \"\"\n      }\n    },\n    {\n      \"column\": \"train-Logloss-mean\",\n      \"properties\": {\n        \"dtype\": \"number\",\n        \"std\": 0.06154579430042876,\n        \"min\": 0.28388620451286295,\n        \"max\": 0.6849392440471956,\n        \"num_unique_values\": 1000,\n        \"samples\": [\n          0.30952725598987674,\n          0.2975998677545974,\n          0.29747941374997316\n        ],\n        \"semantic_type\": \"\",\n        \"description\": \"\"\n      }\n    },\n    {\n      \"column\": \"train-Logloss-std\",\n      \"properties\": {\n        \"dtype\": \"number\",\n        \"std\": 0.0006636564826997695,\n        \"min\": 0.0002616976770828111,\n        \"max\": 0.005076557340507927,\n        \"num_unique_values\": 1000,\n        \"samples\": [\n          0.004616919708040409,\n          0.004361464970723275,\n          0.004309654788703347\n        ],\n        \"semantic_type\": \"\",\n        \"description\": \"\"\n      }\n    }\n  ]\n}"
            }
          },
          "metadata": {},
          "execution_count": 27
        }
      ]
    },
    {
      "cell_type": "code",
      "source": [
        "cv_data[cv_data['test-AUC-mean'] == cv_data['test-AUC-mean'].max()]"
      ],
      "metadata": {
        "colab": {
          "base_uri": "https://localhost:8080/"
        },
        "id": "6So04hIon34a",
        "outputId": "46806987-0ea9-4e57-e935-4f17ed827858"
      },
      "execution_count": null,
      "outputs": [
        {
          "output_type": "execute_result",
          "data": {
            "text/plain": [
              "     iterations  test-AUC-mean  test-AUC-std  test-Logloss-mean  \\\n",
              "741         741       0.868822      0.007457           0.330818   \n",
              "\n",
              "     test-Logloss-std  train-Logloss-mean  train-Logloss-std  \n",
              "741          0.017005            0.297428           0.004326  "
            ],
            "text/html": [
              "\n",
              "  <div id=\"df-123820d5-ba06-44fa-bae0-ee11a5e7a5e6\" class=\"colab-df-container\">\n",
              "    <div>\n",
              "<style scoped>\n",
              "    .dataframe tbody tr th:only-of-type {\n",
              "        vertical-align: middle;\n",
              "    }\n",
              "\n",
              "    .dataframe tbody tr th {\n",
              "        vertical-align: top;\n",
              "    }\n",
              "\n",
              "    .dataframe thead th {\n",
              "        text-align: right;\n",
              "    }\n",
              "</style>\n",
              "<table border=\"1\" class=\"dataframe\">\n",
              "  <thead>\n",
              "    <tr style=\"text-align: right;\">\n",
              "      <th></th>\n",
              "      <th>iterations</th>\n",
              "      <th>test-AUC-mean</th>\n",
              "      <th>test-AUC-std</th>\n",
              "      <th>test-Logloss-mean</th>\n",
              "      <th>test-Logloss-std</th>\n",
              "      <th>train-Logloss-mean</th>\n",
              "      <th>train-Logloss-std</th>\n",
              "    </tr>\n",
              "  </thead>\n",
              "  <tbody>\n",
              "    <tr>\n",
              "      <th>741</th>\n",
              "      <td>741</td>\n",
              "      <td>0.868822</td>\n",
              "      <td>0.007457</td>\n",
              "      <td>0.330818</td>\n",
              "      <td>0.017005</td>\n",
              "      <td>0.297428</td>\n",
              "      <td>0.004326</td>\n",
              "    </tr>\n",
              "  </tbody>\n",
              "</table>\n",
              "</div>\n",
              "    <div class=\"colab-df-buttons\">\n",
              "\n",
              "  <div class=\"colab-df-container\">\n",
              "    <button class=\"colab-df-convert\" onclick=\"convertToInteractive('df-123820d5-ba06-44fa-bae0-ee11a5e7a5e6')\"\n",
              "            title=\"Convert this dataframe to an interactive table.\"\n",
              "            style=\"display:none;\">\n",
              "\n",
              "  <svg xmlns=\"http://www.w3.org/2000/svg\" height=\"24px\" viewBox=\"0 -960 960 960\">\n",
              "    <path d=\"M120-120v-720h720v720H120Zm60-500h600v-160H180v160Zm220 220h160v-160H400v160Zm0 220h160v-160H400v160ZM180-400h160v-160H180v160Zm440 0h160v-160H620v160ZM180-180h160v-160H180v160Zm440 0h160v-160H620v160Z\"/>\n",
              "  </svg>\n",
              "    </button>\n",
              "\n",
              "  <style>\n",
              "    .colab-df-container {\n",
              "      display:flex;\n",
              "      gap: 12px;\n",
              "    }\n",
              "\n",
              "    .colab-df-convert {\n",
              "      background-color: #E8F0FE;\n",
              "      border: none;\n",
              "      border-radius: 50%;\n",
              "      cursor: pointer;\n",
              "      display: none;\n",
              "      fill: #1967D2;\n",
              "      height: 32px;\n",
              "      padding: 0 0 0 0;\n",
              "      width: 32px;\n",
              "    }\n",
              "\n",
              "    .colab-df-convert:hover {\n",
              "      background-color: #E2EBFA;\n",
              "      box-shadow: 0px 1px 2px rgba(60, 64, 67, 0.3), 0px 1px 3px 1px rgba(60, 64, 67, 0.15);\n",
              "      fill: #174EA6;\n",
              "    }\n",
              "\n",
              "    .colab-df-buttons div {\n",
              "      margin-bottom: 4px;\n",
              "    }\n",
              "\n",
              "    [theme=dark] .colab-df-convert {\n",
              "      background-color: #3B4455;\n",
              "      fill: #D2E3FC;\n",
              "    }\n",
              "\n",
              "    [theme=dark] .colab-df-convert:hover {\n",
              "      background-color: #434B5C;\n",
              "      box-shadow: 0px 1px 3px 1px rgba(0, 0, 0, 0.15);\n",
              "      filter: drop-shadow(0px 1px 2px rgba(0, 0, 0, 0.3));\n",
              "      fill: #FFFFFF;\n",
              "    }\n",
              "  </style>\n",
              "\n",
              "    <script>\n",
              "      const buttonEl =\n",
              "        document.querySelector('#df-123820d5-ba06-44fa-bae0-ee11a5e7a5e6 button.colab-df-convert');\n",
              "      buttonEl.style.display =\n",
              "        google.colab.kernel.accessAllowed ? 'block' : 'none';\n",
              "\n",
              "      async function convertToInteractive(key) {\n",
              "        const element = document.querySelector('#df-123820d5-ba06-44fa-bae0-ee11a5e7a5e6');\n",
              "        const dataTable =\n",
              "          await google.colab.kernel.invokeFunction('convertToInteractive',\n",
              "                                                    [key], {});\n",
              "        if (!dataTable) return;\n",
              "\n",
              "        const docLinkHtml = 'Like what you see? Visit the ' +\n",
              "          '<a target=\"_blank\" href=https://colab.research.google.com/notebooks/data_table.ipynb>data table notebook</a>'\n",
              "          + ' to learn more about interactive tables.';\n",
              "        element.innerHTML = '';\n",
              "        dataTable['output_type'] = 'display_data';\n",
              "        await google.colab.output.renderOutput(dataTable, element);\n",
              "        const docLink = document.createElement('div');\n",
              "        docLink.innerHTML = docLinkHtml;\n",
              "        element.appendChild(docLink);\n",
              "      }\n",
              "    </script>\n",
              "  </div>\n",
              "\n",
              "    </div>\n",
              "  </div>\n"
            ],
            "application/vnd.google.colaboratory.intrinsic+json": {
              "type": "dataframe",
              "summary": "{\n  \"name\": \"cv_data[cv_data['test-AUC-mean'] == cv_data['test-AUC-mean']\",\n  \"rows\": 1,\n  \"fields\": [\n    {\n      \"column\": \"iterations\",\n      \"properties\": {\n        \"dtype\": \"number\",\n        \"std\": null,\n        \"min\": 741,\n        \"max\": 741,\n        \"num_unique_values\": 1,\n        \"samples\": [\n          741\n        ],\n        \"semantic_type\": \"\",\n        \"description\": \"\"\n      }\n    },\n    {\n      \"column\": \"test-AUC-mean\",\n      \"properties\": {\n        \"dtype\": \"number\",\n        \"std\": null,\n        \"min\": 0.8688218559102292,\n        \"max\": 0.8688218559102292,\n        \"num_unique_values\": 1,\n        \"samples\": [\n          0.8688218559102292\n        ],\n        \"semantic_type\": \"\",\n        \"description\": \"\"\n      }\n    },\n    {\n      \"column\": \"test-AUC-std\",\n      \"properties\": {\n        \"dtype\": \"number\",\n        \"std\": null,\n        \"min\": 0.007456967581853894,\n        \"max\": 0.007456967581853894,\n        \"num_unique_values\": 1,\n        \"samples\": [\n          0.007456967581853894\n        ],\n        \"semantic_type\": \"\",\n        \"description\": \"\"\n      }\n    },\n    {\n      \"column\": \"test-Logloss-mean\",\n      \"properties\": {\n        \"dtype\": \"number\",\n        \"std\": null,\n        \"min\": 0.3308176292307154,\n        \"max\": 0.3308176292307154,\n        \"num_unique_values\": 1,\n        \"samples\": [\n          0.3308176292307154\n        ],\n        \"semantic_type\": \"\",\n        \"description\": \"\"\n      }\n    },\n    {\n      \"column\": \"test-Logloss-std\",\n      \"properties\": {\n        \"dtype\": \"number\",\n        \"std\": null,\n        \"min\": 0.017005477393161997,\n        \"max\": 0.017005477393161997,\n        \"num_unique_values\": 1,\n        \"samples\": [\n          0.017005477393161997\n        ],\n        \"semantic_type\": \"\",\n        \"description\": \"\"\n      }\n    },\n    {\n      \"column\": \"train-Logloss-mean\",\n      \"properties\": {\n        \"dtype\": \"number\",\n        \"std\": null,\n        \"min\": 0.29742776058348797,\n        \"max\": 0.29742776058348797,\n        \"num_unique_values\": 1,\n        \"samples\": [\n          0.29742776058348797\n        ],\n        \"semantic_type\": \"\",\n        \"description\": \"\"\n      }\n    },\n    {\n      \"column\": \"train-Logloss-std\",\n      \"properties\": {\n        \"dtype\": \"number\",\n        \"std\": null,\n        \"min\": 0.0043263275223987385,\n        \"max\": 0.0043263275223987385,\n        \"num_unique_values\": 1,\n        \"samples\": [\n          0.0043263275223987385\n        ],\n        \"semantic_type\": \"\",\n        \"description\": \"\"\n      }\n    }\n  ]\n}"
            }
          },
          "metadata": {},
          "execution_count": 28
        }
      ]
    },
    {
      "cell_type": "code",
      "source": [
        "n_iters = cv_data[cv_data['test-AUC-mean'] == cv_data['test-AUC-mean'].max()]['iterations'].values[0]"
      ],
      "metadata": {
        "id": "LnEe7bGvn4Cq"
      },
      "execution_count": null,
      "outputs": []
    },
    {
      "cell_type": "code",
      "source": [
        "params = {'iterations':n_iters,\n",
        "          'verbose':100,\n",
        "          'eval_metric':'AUC',\n",
        "          'loss_function': 'Logloss',\n",
        "          'random_seed':42,\n",
        "          'learning_rate':0.01}"
      ],
      "metadata": {
        "id": "AYsBu2obpGXR"
      },
      "execution_count": null,
      "outputs": []
    },
    {
      "cell_type": "code",
      "source": [
        "model = CatBoostClassifier(**params)"
      ],
      "metadata": {
        "id": "d2ADOITmpGaa"
      },
      "execution_count": null,
      "outputs": []
    },
    {
      "cell_type": "code",
      "source": [
        "model.fit(train_full_data)"
      ],
      "metadata": {
        "colab": {
          "base_uri": "https://localhost:8080/"
        },
        "id": "x491zP23pGdh",
        "outputId": "eddb5eb2-fa68-4ceb-c856-43cab2f5fc27"
      },
      "execution_count": null,
      "outputs": [
        {
          "output_type": "stream",
          "name": "stdout",
          "text": [
            "0:\ttotal: 24.3ms\tremaining: 18s\n",
            "100:\ttotal: 2.07s\tremaining: 13.1s\n",
            "200:\ttotal: 3.9s\tremaining: 10.5s\n",
            "300:\ttotal: 4.93s\tremaining: 7.21s\n",
            "400:\ttotal: 5.97s\tremaining: 5.07s\n",
            "500:\ttotal: 6.99s\tremaining: 3.35s\n",
            "600:\ttotal: 8.05s\tremaining: 1.88s\n",
            "700:\ttotal: 9.06s\tremaining: 517ms\n",
            "740:\ttotal: 9.46s\tremaining: 0us\n"
          ]
        },
        {
          "output_type": "execute_result",
          "data": {
            "text/plain": [
              "<catboost.core.CatBoostClassifier at 0x78b035f5c190>"
            ]
          },
          "metadata": {},
          "execution_count": 32
        }
      ]
    },
    {
      "cell_type": "code",
      "source": [
        "test['y_score_cross_val'] = model.predict_proba(test_data)[:,1]"
      ],
      "metadata": {
        "id": "RPjf17BnpFda"
      },
      "execution_count": null,
      "outputs": []
    },
    {
      "cell_type": "code",
      "source": [
        "roc_auc_score(test['Exited'], test['y_score_cross_val'])"
      ],
      "metadata": {
        "colab": {
          "base_uri": "https://localhost:8080/"
        },
        "id": "B-p6vygTpFih",
        "outputId": "049034af-58e1-41f3-c785-81d764fe199d"
      },
      "execution_count": null,
      "outputs": [
        {
          "output_type": "execute_result",
          "data": {
            "text/plain": [
              "0.8737196364315009"
            ]
          },
          "metadata": {},
          "execution_count": 34
        }
      ]
    },
    {
      "cell_type": "code",
      "source": [
        "len(train_full)"
      ],
      "metadata": {
        "colab": {
          "base_uri": "https://localhost:8080/"
        },
        "id": "LJWaCDM4pFmS",
        "outputId": "2e91ef6b-bab2-4f23-810a-d280fb97fe6c"
      },
      "execution_count": null,
      "outputs": [
        {
          "output_type": "execute_result",
          "data": {
            "text/plain": [
              "8000"
            ]
          },
          "metadata": {},
          "execution_count": 35
        }
      ]
    },
    {
      "cell_type": "markdown",
      "source": [
        "# Подбор гиперпараметров"
      ],
      "metadata": {
        "id": "94fU9-n_qRxZ"
      }
    },
    {
      "cell_type": "code",
      "source": [
        "model.get_all_params()"
      ],
      "metadata": {
        "colab": {
          "base_uri": "https://localhost:8080/"
        },
        "id": "4mddOU21pFp6",
        "outputId": "4b5b7518-57a7-40f3-a4e4-50bb00d7f9b3"
      },
      "execution_count": null,
      "outputs": [
        {
          "output_type": "execute_result",
          "data": {
            "text/plain": [
              "{'nan_mode': 'Min',\n",
              " 'eval_metric': 'AUC',\n",
              " 'combinations_ctr': ['Borders:CtrBorderCount=15:CtrBorderType=Uniform:TargetBorderCount=1:TargetBorderType=MinEntropy:Prior=0/1:Prior=0.5/1:Prior=1/1',\n",
              "  'Counter:CtrBorderCount=15:CtrBorderType=Uniform:Prior=0/1'],\n",
              " 'iterations': 741,\n",
              " 'sampling_frequency': 'PerTree',\n",
              " 'fold_permutation_block': 0,\n",
              " 'leaf_estimation_method': 'Newton',\n",
              " 'random_score_type': 'NormalWithModelSizeDecrease',\n",
              " 'counter_calc_method': 'SkipTest',\n",
              " 'grow_policy': 'SymmetricTree',\n",
              " 'penalties_coefficient': 1,\n",
              " 'boosting_type': 'Plain',\n",
              " 'model_shrink_mode': 'Constant',\n",
              " 'feature_border_type': 'GreedyLogSum',\n",
              " 'ctr_leaf_count_limit': 18446744073709551615,\n",
              " 'bayesian_matrix_reg': 0.10000000149011612,\n",
              " 'one_hot_max_size': 2,\n",
              " 'eval_fraction': 0,\n",
              " 'force_unit_auto_pair_weights': False,\n",
              " 'l2_leaf_reg': 3,\n",
              " 'random_strength': 1,\n",
              " 'rsm': 1,\n",
              " 'boost_from_average': False,\n",
              " 'max_ctr_complexity': 4,\n",
              " 'model_size_reg': 0.5,\n",
              " 'simple_ctr': ['Borders:CtrBorderCount=15:CtrBorderType=Uniform:TargetBorderCount=1:TargetBorderType=MinEntropy:Prior=0/1:Prior=0.5/1:Prior=1/1',\n",
              "  'Counter:CtrBorderCount=15:CtrBorderType=Uniform:Prior=0/1'],\n",
              " 'pool_metainfo_options': {'tags': {}},\n",
              " 'subsample': 0.800000011920929,\n",
              " 'use_best_model': False,\n",
              " 'class_names': [0, 1],\n",
              " 'random_seed': 42,\n",
              " 'depth': 6,\n",
              " 'ctr_target_border_count': 1,\n",
              " 'posterior_sampling': False,\n",
              " 'has_time': False,\n",
              " 'store_all_simple_ctr': False,\n",
              " 'border_count': 254,\n",
              " 'classes_count': 0,\n",
              " 'auto_class_weights': 'None',\n",
              " 'sparse_features_conflict_fraction': 0,\n",
              " 'leaf_estimation_backtracking': 'AnyImprovement',\n",
              " 'best_model_min_trees': 1,\n",
              " 'model_shrink_rate': 0,\n",
              " 'min_data_in_leaf': 1,\n",
              " 'loss_function': 'Logloss',\n",
              " 'learning_rate': 0.009999999776482582,\n",
              " 'score_function': 'Cosine',\n",
              " 'task_type': 'CPU',\n",
              " 'leaf_estimation_iterations': 10,\n",
              " 'bootstrap_type': 'MVS',\n",
              " 'max_leaves': 64,\n",
              " 'permutation_count': 4}"
            ]
          },
          "metadata": {},
          "execution_count": 36
        }
      ]
    },
    {
      "cell_type": "code",
      "source": [
        "params = {'verbose':100,\n",
        "          'eval_metric':'AUC',\n",
        "          'loss_function': 'Logloss',\n",
        "          'random_seed':42}"
      ],
      "metadata": {
        "id": "a9FbPuZapFt6"
      },
      "execution_count": null,
      "outputs": []
    },
    {
      "cell_type": "code",
      "source": [
        "model = CatBoostClassifier(**params)"
      ],
      "metadata": {
        "id": "4ZVJbV3vpFxx"
      },
      "execution_count": null,
      "outputs": []
    },
    {
      "cell_type": "code",
      "source": [
        "grid = {'learning_rate': [0.01, 0.1],\n",
        "        'depth': [5, 6]}"
      ],
      "metadata": {
        "id": "pXdysdv_pF3a"
      },
      "execution_count": null,
      "outputs": []
    },
    {
      "cell_type": "code",
      "source": [
        "result = model.grid_search(grid, train_full_data, verbose=False)"
      ],
      "metadata": {
        "colab": {
          "base_uri": "https://localhost:8080/"
        },
        "id": "kMMrMiqBn4Mp",
        "outputId": "1f23b2fb-e632-42c5-ea5e-d6cf1969a2fa"
      },
      "execution_count": null,
      "outputs": [
        {
          "output_type": "stream",
          "name": "stdout",
          "text": [
            "0:\ttest: 0.7811641\tbest: 0.7811641 (0)\ttotal: 10.9ms\tremaining: 10.9s\n",
            "100:\ttest: 0.8435462\tbest: 0.8435769 (99)\ttotal: 967ms\tremaining: 8.6s\n",
            "200:\ttest: 0.8508923\tbest: 0.8508923 (200)\ttotal: 1.88s\tremaining: 7.49s\n",
            "300:\ttest: 0.8547897\tbest: 0.8547897 (300)\ttotal: 2.8s\tremaining: 6.5s\n",
            "400:\ttest: 0.8569385\tbest: 0.8569385 (400)\ttotal: 3.7s\tremaining: 5.52s\n",
            "500:\ttest: 0.8576410\tbest: 0.8576410 (500)\ttotal: 4.96s\tremaining: 4.94s\n",
            "600:\ttest: 0.8585538\tbest: 0.8585538 (600)\ttotal: 6.35s\tremaining: 4.22s\n",
            "700:\ttest: 0.8590923\tbest: 0.8591487 (694)\ttotal: 7.7s\tremaining: 3.28s\n",
            "800:\ttest: 0.8593590\tbest: 0.8595564 (749)\ttotal: 8.59s\tremaining: 2.13s\n",
            "900:\ttest: 0.8593282\tbest: 0.8595564 (749)\ttotal: 9.49s\tremaining: 1.04s\n",
            "999:\ttest: 0.8593897\tbest: 0.8595974 (986)\ttotal: 10.4s\tremaining: 0us\n",
            "\n",
            "bestTest = 0.8595974359\n",
            "bestIteration = 986\n",
            "\n",
            "Metric AUC is not calculated on train by default. To calculate this metric on train, add hints=skip_train~false to metric parameters.\n",
            "0:\ttest: 0.7811641\tbest: 0.7811641 (0)\ttotal: 8.72ms\tremaining: 8.71s\n",
            "100:\ttest: 0.8601513\tbest: 0.8604077 (89)\ttotal: 908ms\tremaining: 8.08s\n",
            "200:\ttest: 0.8557769\tbest: 0.8609103 (111)\ttotal: 1.84s\tremaining: 7.33s\n",
            "300:\ttest: 0.8521564\tbest: 0.8609103 (111)\ttotal: 2.83s\tremaining: 6.57s\n",
            "400:\ttest: 0.8456949\tbest: 0.8609103 (111)\ttotal: 3.8s\tremaining: 5.68s\n",
            "500:\ttest: 0.8432923\tbest: 0.8609103 (111)\ttotal: 4.78s\tremaining: 4.76s\n",
            "600:\ttest: 0.8407359\tbest: 0.8609103 (111)\ttotal: 5.75s\tremaining: 3.82s\n",
            "700:\ttest: 0.8388282\tbest: 0.8609103 (111)\ttotal: 6.67s\tremaining: 2.84s\n",
            "800:\ttest: 0.8358282\tbest: 0.8609103 (111)\ttotal: 7.96s\tremaining: 1.98s\n",
            "900:\ttest: 0.8356949\tbest: 0.8609103 (111)\ttotal: 9.87s\tremaining: 1.08s\n",
            "999:\ttest: 0.8335590\tbest: 0.8609103 (111)\ttotal: 11.2s\tremaining: 0us\n",
            "\n",
            "bestTest = 0.8609102564\n",
            "bestIteration = 111\n",
            "\n",
            "Metric AUC is not calculated on train by default. To calculate this metric on train, add hints=skip_train~false to metric parameters.\n",
            "0:\ttest: 0.8068872\tbest: 0.8068872 (0)\ttotal: 10.4ms\tremaining: 10.4s\n",
            "100:\ttest: 0.8455590\tbest: 0.8455590 (100)\ttotal: 1s\tremaining: 8.95s\n",
            "200:\ttest: 0.8530923\tbest: 0.8530923 (200)\ttotal: 2.02s\tremaining: 8.03s\n",
            "300:\ttest: 0.8563026\tbest: 0.8563410 (292)\ttotal: 3.06s\tremaining: 7.11s\n",
            "400:\ttest: 0.8578000\tbest: 0.8578385 (398)\ttotal: 4.09s\tremaining: 6.1s\n",
            "500:\ttest: 0.8583872\tbest: 0.8584821 (476)\ttotal: 5.14s\tremaining: 5.12s\n",
            "600:\ttest: 0.8588821\tbest: 0.8589487 (593)\ttotal: 6.17s\tremaining: 4.09s\n",
            "700:\ttest: 0.8587308\tbest: 0.8590282 (605)\ttotal: 7.48s\tremaining: 3.19s\n",
            "800:\ttest: 0.8584744\tbest: 0.8590282 (605)\ttotal: 8.76s\tremaining: 2.18s\n",
            "900:\ttest: 0.8583590\tbest: 0.8590282 (605)\ttotal: 9.76s\tremaining: 1.07s\n",
            "999:\ttest: 0.8581103\tbest: 0.8590282 (605)\ttotal: 11.3s\tremaining: 0us\n",
            "\n",
            "bestTest = 0.8590282051\n",
            "bestIteration = 605\n",
            "\n",
            "Metric AUC is not calculated on train by default. To calculate this metric on train, add hints=skip_train~false to metric parameters.\n",
            "0:\ttest: 0.8068872\tbest: 0.8068872 (0)\ttotal: 20.1ms\tremaining: 20s\n",
            "100:\ttest: 0.8554795\tbest: 0.8574051 (69)\ttotal: 1.57s\tremaining: 14s\n",
            "200:\ttest: 0.8486359\tbest: 0.8574051 (69)\ttotal: 2.87s\tremaining: 11.4s\n",
            "300:\ttest: 0.8455051\tbest: 0.8574051 (69)\ttotal: 3.94s\tremaining: 9.14s\n",
            "400:\ttest: 0.8399846\tbest: 0.8574051 (69)\ttotal: 4.99s\tremaining: 7.46s\n",
            "500:\ttest: 0.8388077\tbest: 0.8574051 (69)\ttotal: 6.04s\tremaining: 6.02s\n",
            "600:\ttest: 0.8364026\tbest: 0.8574051 (69)\ttotal: 7.08s\tremaining: 4.7s\n",
            "700:\ttest: 0.8340974\tbest: 0.8574051 (69)\ttotal: 8.11s\tremaining: 3.46s\n",
            "800:\ttest: 0.8320769\tbest: 0.8574051 (69)\ttotal: 9.15s\tremaining: 2.27s\n",
            "900:\ttest: 0.8298923\tbest: 0.8574051 (69)\ttotal: 10.2s\tremaining: 1.12s\n",
            "999:\ttest: 0.8302846\tbest: 0.8574051 (69)\ttotal: 11.2s\tremaining: 0us\n",
            "\n",
            "bestTest = 0.8574051282\n",
            "bestIteration = 69\n",
            "\n",
            "Metric AUC is not calculated on train by default. To calculate this metric on train, add hints=skip_train~false to metric parameters.\n",
            "Training on fold [0/3]\n",
            "0:\ttest: 0.8023131\tbest: 0.8023131 (0)\ttotal: 9.65ms\tremaining: 9.64s\n",
            "100:\ttest: 0.8696792\tbest: 0.8705039 (90)\ttotal: 933ms\tremaining: 8.3s\n",
            "200:\ttest: 0.8691616\tbest: 0.8705039 (90)\ttotal: 2.27s\tremaining: 9.05s\n",
            "300:\ttest: 0.8649927\tbest: 0.8705039 (90)\ttotal: 3.64s\tremaining: 8.45s\n",
            "400:\ttest: 0.8618130\tbest: 0.8705039 (90)\ttotal: 4.82s\tremaining: 7.2s\n",
            "500:\ttest: 0.8585372\tbest: 0.8705039 (90)\ttotal: 5.68s\tremaining: 5.65s\n",
            "600:\ttest: 0.8560785\tbest: 0.8705039 (90)\ttotal: 6.54s\tremaining: 4.34s\n",
            "700:\ttest: 0.8535254\tbest: 0.8705039 (90)\ttotal: 7.4s\tremaining: 3.15s\n",
            "800:\ttest: 0.8519736\tbest: 0.8705039 (90)\ttotal: 8.26s\tremaining: 2.05s\n",
            "900:\ttest: 0.8499848\tbest: 0.8705039 (90)\ttotal: 9.16s\tremaining: 1.01s\n",
            "999:\ttest: 0.8481197\tbest: 0.8705039 (90)\ttotal: 10s\tremaining: 0us\n",
            "\n",
            "bestTest = 0.8705039396\n",
            "bestIteration = 90\n",
            "\n",
            "Training on fold [1/3]\n",
            "0:\ttest: 0.7921723\tbest: 0.7921723 (0)\ttotal: 8.36ms\tremaining: 8.35s\n",
            "100:\ttest: 0.8705982\tbest: 0.8712713 (94)\ttotal: 837ms\tremaining: 7.45s\n",
            "200:\ttest: 0.8665098\tbest: 0.8712713 (94)\ttotal: 1.72s\tremaining: 6.82s\n",
            "300:\ttest: 0.8628075\tbest: 0.8712713 (94)\ttotal: 2.59s\tremaining: 6.01s\n",
            "400:\ttest: 0.8613719\tbest: 0.8712713 (94)\ttotal: 3.49s\tremaining: 5.21s\n",
            "500:\ttest: 0.8585821\tbest: 0.8712713 (94)\ttotal: 4.43s\tremaining: 4.41s\n",
            "600:\ttest: 0.8552467\tbest: 0.8712713 (94)\ttotal: 5.82s\tremaining: 3.86s\n",
            "700:\ttest: 0.8529644\tbest: 0.8712713 (94)\ttotal: 7.17s\tremaining: 3.06s\n",
            "800:\ttest: 0.8514316\tbest: 0.8712713 (94)\ttotal: 8.35s\tremaining: 2.07s\n",
            "900:\ttest: 0.8502718\tbest: 0.8712713 (94)\ttotal: 9.22s\tremaining: 1.01s\n",
            "999:\ttest: 0.8486688\tbest: 0.8712713 (94)\ttotal: 10.1s\tremaining: 0us\n",
            "\n",
            "bestTest = 0.8712713255\n",
            "bestIteration = 94\n",
            "\n",
            "Training on fold [2/3]\n",
            "0:\ttest: 0.7876129\tbest: 0.7876129 (0)\ttotal: 14.7ms\tremaining: 14.6s\n",
            "100:\ttest: 0.8656068\tbest: 0.8656805 (98)\ttotal: 853ms\tremaining: 7.59s\n",
            "200:\ttest: 0.8618255\tbest: 0.8657300 (108)\ttotal: 1.74s\tremaining: 6.91s\n",
            "300:\ttest: 0.8583852\tbest: 0.8657300 (108)\ttotal: 2.62s\tremaining: 6.08s\n",
            "400:\ttest: 0.8567639\tbest: 0.8657300 (108)\ttotal: 3.48s\tremaining: 5.2s\n",
            "500:\ttest: 0.8542379\tbest: 0.8657300 (108)\ttotal: 4.36s\tremaining: 4.34s\n",
            "600:\ttest: 0.8524682\tbest: 0.8657300 (108)\ttotal: 5.21s\tremaining: 3.46s\n",
            "700:\ttest: 0.8516927\tbest: 0.8657300 (108)\ttotal: 6.08s\tremaining: 2.59s\n",
            "800:\ttest: 0.8481899\tbest: 0.8657300 (108)\ttotal: 6.92s\tremaining: 1.72s\n",
            "900:\ttest: 0.8458981\tbest: 0.8657300 (108)\ttotal: 7.78s\tremaining: 855ms\n",
            "999:\ttest: 0.8452310\tbest: 0.8657300 (108)\ttotal: 9.15s\tremaining: 0us\n",
            "\n",
            "bestTest = 0.8657299818\n",
            "bestIteration = 108\n",
            "\n"
          ]
        }
      ]
    },
    {
      "cell_type": "code",
      "source": [
        "result['params']"
      ],
      "metadata": {
        "colab": {
          "base_uri": "https://localhost:8080/"
        },
        "id": "Qr47sRhMn4Yq",
        "outputId": "66761d0f-1b0f-4fee-ac9c-b221c5bc4b41"
      },
      "execution_count": null,
      "outputs": [
        {
          "output_type": "execute_result",
          "data": {
            "text/plain": [
              "{'depth': 5, 'learning_rate': 0.1}"
            ]
          },
          "metadata": {},
          "execution_count": 41
        }
      ]
    },
    {
      "cell_type": "code",
      "source": [
        "pd.DataFrame(result['cv_results'])['test-AUC-mean'].max()"
      ],
      "metadata": {
        "colab": {
          "base_uri": "https://localhost:8080/"
        },
        "id": "21KahLkahXEQ",
        "outputId": "44fac454-7756-4d57-e283-ed6951ab18f0"
      },
      "execution_count": null,
      "outputs": [
        {
          "output_type": "execute_result",
          "data": {
            "text/plain": [
              "0.8689660773549619"
            ]
          },
          "metadata": {},
          "execution_count": 42
        }
      ]
    },
    {
      "cell_type": "markdown",
      "source": [
        "# Принципы sklearn"
      ],
      "metadata": {
        "id": "GHD3xglozZXc"
      }
    },
    {
      "cell_type": "code",
      "source": [],
      "metadata": {
        "id": "AYWDI379rYq-"
      },
      "execution_count": null,
      "outputs": []
    },
    {
      "cell_type": "code",
      "source": [],
      "metadata": {
        "id": "aOMFzB1nzi0E"
      },
      "execution_count": null,
      "outputs": []
    },
    {
      "cell_type": "code",
      "source": [],
      "metadata": {
        "id": "DSdEkwjwzi3M"
      },
      "execution_count": null,
      "outputs": []
    },
    {
      "cell_type": "code",
      "source": [],
      "metadata": {
        "id": "YktuBSy3zi6E"
      },
      "execution_count": null,
      "outputs": []
    },
    {
      "cell_type": "code",
      "source": [],
      "metadata": {
        "id": "j_qEI527zi9M"
      },
      "execution_count": null,
      "outputs": []
    },
    {
      "cell_type": "code",
      "source": [],
      "metadata": {
        "id": "t8pUCg5-zjDU"
      },
      "execution_count": null,
      "outputs": []
    },
    {
      "cell_type": "code",
      "source": [],
      "metadata": {
        "id": "zy9Zt_cJzjHM"
      },
      "execution_count": null,
      "outputs": []
    },
    {
      "cell_type": "code",
      "source": [],
      "metadata": {
        "id": "tz8OBgTyzjK0"
      },
      "execution_count": null,
      "outputs": []
    },
    {
      "cell_type": "code",
      "source": [],
      "metadata": {
        "id": "CqN4lMiwzjOs"
      },
      "execution_count": null,
      "outputs": []
    },
    {
      "cell_type": "code",
      "source": [],
      "metadata": {
        "id": "yzE6lWGazjTE"
      },
      "execution_count": null,
      "outputs": []
    },
    {
      "cell_type": "code",
      "source": [],
      "metadata": {
        "id": "VAIqghZmzjXs"
      },
      "execution_count": null,
      "outputs": []
    },
    {
      "cell_type": "code",
      "source": [],
      "metadata": {
        "id": "iOOKiqmmzjbU"
      },
      "execution_count": null,
      "outputs": []
    },
    {
      "cell_type": "code",
      "source": [],
      "metadata": {
        "id": "kGroLWrNzjgd"
      },
      "execution_count": null,
      "outputs": []
    },
    {
      "cell_type": "code",
      "source": [],
      "metadata": {
        "id": "tAY-VwBzzjkt"
      },
      "execution_count": null,
      "outputs": []
    },
    {
      "cell_type": "code",
      "source": [],
      "metadata": {
        "id": "JnUBdLi7zjtk"
      },
      "execution_count": null,
      "outputs": []
    },
    {
      "cell_type": "code",
      "source": [],
      "metadata": {
        "id": "qz1mHElDzj2s"
      },
      "execution_count": null,
      "outputs": []
    },
    {
      "cell_type": "code",
      "source": [],
      "metadata": {
        "id": "TupZwSuAzj7k"
      },
      "execution_count": null,
      "outputs": []
    },
    {
      "cell_type": "code",
      "source": [],
      "metadata": {
        "id": "SqzfNOdIzkFc"
      },
      "execution_count": null,
      "outputs": []
    },
    {
      "cell_type": "code",
      "source": [],
      "metadata": {
        "id": "ZncvdlI0zkJs"
      },
      "execution_count": null,
      "outputs": []
    },
    {
      "cell_type": "code",
      "source": [],
      "metadata": {
        "id": "JacgxJzRzkN8"
      },
      "execution_count": null,
      "outputs": []
    },
    {
      "cell_type": "code",
      "source": [],
      "metadata": {
        "id": "Zb6wjvW3zkSs"
      },
      "execution_count": null,
      "outputs": []
    },
    {
      "cell_type": "code",
      "source": [],
      "metadata": {
        "id": "jeerx4HazkW0"
      },
      "execution_count": null,
      "outputs": []
    }
  ]
}